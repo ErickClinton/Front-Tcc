{
 "cells": [
  {
   "cell_type": "code",
   "execution_count": 2,
   "metadata": {},
   "outputs": [],
   "source": [
    "import pandas as pd\n",
    "import numpy as np\n",
    "import matplotlib.pylab as plt\n",
    "from datetime import datetime\n",
    "from statsmodels.tsa.seasonal import seasonal_decompose\n",
    "from pmdarima.arima import auto_arima"
   ]
  },
  {
   "cell_type": "code",
   "execution_count": 3,
   "metadata": {},
   "outputs": [],
   "source": [
    "df = pd.read_csv('../data/covid/processed/overall_data/overall_data.csv')"
   ]
  },
  {
   "cell_type": "code",
   "execution_count": null,
   "metadata": {},
   "outputs": [],
   "source": []
  },
  {
   "cell_type": "code",
   "execution_count": 4,
   "metadata": {},
   "outputs": [],
   "source": [
    "data_BR = df.query(\"state == 'TOTAL'\")[['epi_week', 'totalCases', 'deaths', 'date']]"
   ]
  },
  {
   "cell_type": "code",
   "execution_count": 5,
   "metadata": {},
   "outputs": [
    {
     "data": {
      "text/plain": [
       "<bound method NDFrame.head of                date  deaths\n",
       "1        2020-02-25       0\n",
       "3        2020-02-26       0\n",
       "5        2020-02-27       0\n",
       "7        2020-02-28       0\n",
       "9        2020-02-29       0\n",
       "...             ...     ...\n",
       "4241438  2022-06-07  667348\n",
       "4247035  2022-06-08  667647\n",
       "4252632  2022-06-09  667790\n",
       "4258229  2022-06-10  667960\n",
       "4263826  2022-06-11  668074\n",
       "\n",
       "[838 rows x 2 columns]>"
      ]
     },
     "execution_count": 5,
     "metadata": {},
     "output_type": "execute_result"
    }
   ],
   "source": [
    "# Determine o número de linhas a serem selecionadas (3/4 do total)\n",
    "num_linhas_selecionadas = int(0.75 * len(data_BR))\n",
    "\n",
    "# Selecione as primeiras 3/4 partes do DataFrame\n",
    "subset_data_BR = data_BR.iloc[:num_linhas_selecionadas, :]\n",
    "\n",
    "subset_data_BR = subset_data_BR[['date', 'deaths']]\n",
    "subset_data_BR.head"
   ]
  },
  {
   "cell_type": "code",
   "execution_count": 6,
   "metadata": {},
   "outputs": [
    {
     "data": {
      "text/plain": [
       "<bound method NDFrame.head of date\n",
       "2020-02-25         0\n",
       "2020-02-26         0\n",
       "2020-02-27         0\n",
       "2020-02-28         0\n",
       "2020-02-29         0\n",
       "               ...  \n",
       "2022-06-07    667348\n",
       "2022-06-08    667647\n",
       "2022-06-09    667790\n",
       "2022-06-10    667960\n",
       "2022-06-11    668074\n",
       "Name: deaths, Length: 838, dtype: int64>"
      ]
     },
     "execution_count": 6,
     "metadata": {},
     "output_type": "execute_result"
    }
   ],
   "source": [
    "subset_data_BR.set_index('date', inplace=True)\n",
    "time_series = subset_data_BR['deaths']\n",
    "time_series.head"
   ]
  },
  {
   "cell_type": "code",
   "execution_count": 7,
   "metadata": {},
   "outputs": [
    {
     "ename": "ValueError",
     "evalue": "You must specify a period or x must be a pandas object with a PeriodIndex or a DatetimeIndex with a freq not set to None",
     "output_type": "error",
     "traceback": [
      "\u001b[1;31m---------------------------------------------------------------------------\u001b[0m",
      "\u001b[1;31mValueError\u001b[0m                                Traceback (most recent call last)",
      "\u001b[1;32mc:\\Users\\ericd\\Documents\\tcc\\tcc-puc\\notebooks\\time_series.ipynb Cell 7\u001b[0m line \u001b[0;36m1\n\u001b[1;32m----> <a href='vscode-notebook-cell:/c%3A/Users/ericd/Documents/tcc/tcc-puc/notebooks/time_series.ipynb#W6sZmlsZQ%3D%3D?line=0'>1</a>\u001b[0m decomposicao \u001b[39m=\u001b[39m seasonal_decompose(time_series)\n\u001b[0;32m      <a href='vscode-notebook-cell:/c%3A/Users/ericd/Documents/tcc/tcc-puc/notebooks/time_series.ipynb#W6sZmlsZQ%3D%3D?line=1'>2</a>\u001b[0m tendencia \u001b[39m=\u001b[39m decomposicao\u001b[39m.\u001b[39mtrend\n\u001b[0;32m      <a href='vscode-notebook-cell:/c%3A/Users/ericd/Documents/tcc/tcc-puc/notebooks/time_series.ipynb#W6sZmlsZQ%3D%3D?line=2'>3</a>\u001b[0m sazonal \u001b[39m=\u001b[39m decomposicao\u001b[39m.\u001b[39mseasonal\n",
      "File \u001b[1;32mc:\\Users\\ericd\\anaconda3\\lib\\site-packages\\statsmodels\\tsa\\seasonal.py:159\u001b[0m, in \u001b[0;36mseasonal_decompose\u001b[1;34m(x, model, filt, period, two_sided, extrapolate_trend)\u001b[0m\n\u001b[0;32m    157\u001b[0m         period \u001b[39m=\u001b[39m pfreq\n\u001b[0;32m    158\u001b[0m     \u001b[39melse\u001b[39;00m:\n\u001b[1;32m--> 159\u001b[0m         \u001b[39mraise\u001b[39;00m \u001b[39mValueError\u001b[39;00m(\n\u001b[0;32m    160\u001b[0m             \u001b[39m\"\u001b[39m\u001b[39mYou must specify a period or x must be a pandas object with \u001b[39m\u001b[39m\"\u001b[39m\n\u001b[0;32m    161\u001b[0m             \u001b[39m\"\u001b[39m\u001b[39ma PeriodIndex or a DatetimeIndex with a freq not set to None\u001b[39m\u001b[39m\"\u001b[39m\n\u001b[0;32m    162\u001b[0m         )\n\u001b[0;32m    163\u001b[0m \u001b[39mif\u001b[39;00m x\u001b[39m.\u001b[39mshape[\u001b[39m0\u001b[39m] \u001b[39m<\u001b[39m \u001b[39m2\u001b[39m \u001b[39m*\u001b[39m pfreq:\n\u001b[0;32m    164\u001b[0m     \u001b[39mraise\u001b[39;00m \u001b[39mValueError\u001b[39;00m(\n\u001b[0;32m    165\u001b[0m         \u001b[39mf\u001b[39m\u001b[39m\"\u001b[39m\u001b[39mx must have 2 complete cycles requires \u001b[39m\u001b[39m{\u001b[39;00m\u001b[39m2\u001b[39m\u001b[39m \u001b[39m\u001b[39m*\u001b[39m\u001b[39m \u001b[39mpfreq\u001b[39m}\u001b[39;00m\u001b[39m \u001b[39m\u001b[39m\"\u001b[39m\n\u001b[0;32m    166\u001b[0m         \u001b[39mf\u001b[39m\u001b[39m\"\u001b[39m\u001b[39mobservations. x only has \u001b[39m\u001b[39m{\u001b[39;00mx\u001b[39m.\u001b[39mshape[\u001b[39m0\u001b[39m]\u001b[39m}\u001b[39;00m\u001b[39m observation(s)\u001b[39m\u001b[39m\"\u001b[39m\n\u001b[0;32m    167\u001b[0m     )\n",
      "\u001b[1;31mValueError\u001b[0m: You must specify a period or x must be a pandas object with a PeriodIndex or a DatetimeIndex with a freq not set to None"
     ]
    }
   ],
   "source": [
    "decomposicao = seasonal_decompose(time_series)\n",
    "tendencia = decomposicao.trend\n",
    "sazonal = decomposicao.seasonal\n",
    "aleatorio = decomposicao.resid\n",
    "plt.plot(aleatorio)"
   ]
  },
  {
   "cell_type": "code",
   "execution_count": 8,
   "metadata": {},
   "outputs": [
    {
     "name": "stdout",
     "output_type": "stream",
     "text": [
      "Performing stepwise search to minimize aic\n",
      " ARIMA(1,1,1)(0,1,1)[4]             : AIC=12035.053, Time=1.91 sec\n",
      " ARIMA(0,1,0)(0,1,0)[4]             : AIC=12965.733, Time=0.05 sec\n",
      " ARIMA(1,1,0)(1,1,0)[4]             : AIC=12164.375, Time=0.58 sec\n",
      " ARIMA(0,1,1)(0,1,1)[4]             : AIC=12046.242, Time=0.44 sec\n",
      " ARIMA(1,1,1)(0,1,0)[4]             : AIC=inf, Time=0.52 sec\n",
      " ARIMA(1,1,1)(1,1,1)[4]             : AIC=inf, Time=1.43 sec\n",
      " ARIMA(1,1,1)(0,1,2)[4]             : AIC=inf, Time=1.65 sec\n",
      " ARIMA(1,1,1)(1,1,0)[4]             : AIC=inf, Time=0.71 sec\n",
      " ARIMA(1,1,1)(1,1,2)[4]             : AIC=inf, Time=1.71 sec\n",
      " ARIMA(1,1,0)(0,1,1)[4]             : AIC=inf, Time=0.43 sec\n",
      " ARIMA(2,1,1)(0,1,1)[4]             : AIC=11947.121, Time=0.58 sec\n",
      " ARIMA(2,1,1)(0,1,0)[4]             : AIC=11948.141, Time=0.31 sec\n",
      " ARIMA(2,1,1)(1,1,1)[4]             : AIC=inf, Time=1.25 sec\n",
      " ARIMA(2,1,1)(0,1,2)[4]             : AIC=11937.180, Time=0.69 sec\n",
      " ARIMA(2,1,1)(1,1,2)[4]             : AIC=11937.237, Time=1.71 sec\n",
      " ARIMA(2,1,0)(0,1,2)[4]             : AIC=12016.874, Time=0.77 sec\n",
      " ARIMA(3,1,1)(0,1,2)[4]             : AIC=11876.036, Time=1.05 sec\n",
      " ARIMA(3,1,1)(0,1,1)[4]             : AIC=11878.506, Time=0.91 sec\n",
      " ARIMA(3,1,1)(1,1,2)[4]             : AIC=11872.928, Time=1.66 sec\n",
      " ARIMA(3,1,1)(1,1,1)[4]             : AIC=11879.030, Time=0.96 sec\n",
      " ARIMA(3,1,1)(2,1,2)[4]             : AIC=11767.576, Time=1.88 sec\n",
      " ARIMA(3,1,1)(2,1,1)[4]             : AIC=11865.641, Time=1.29 sec\n",
      " ARIMA(2,1,1)(2,1,2)[4]             : AIC=11857.535, Time=1.85 sec\n",
      " ARIMA(3,1,0)(2,1,2)[4]             : AIC=11787.692, Time=1.95 sec\n",
      " ARIMA(3,1,2)(2,1,2)[4]             : AIC=11668.294, Time=1.98 sec\n",
      " ARIMA(3,1,2)(1,1,2)[4]             : AIC=11657.875, Time=2.04 sec\n",
      " ARIMA(3,1,2)(0,1,2)[4]             : AIC=11638.297, Time=1.61 sec\n",
      " ARIMA(3,1,2)(0,1,1)[4]             : AIC=11681.874, Time=1.35 sec\n",
      " ARIMA(3,1,2)(1,1,1)[4]             : AIC=11695.334, Time=1.14 sec\n",
      " ARIMA(2,1,2)(0,1,2)[4]             : AIC=11634.152, Time=1.12 sec\n",
      " ARIMA(2,1,2)(0,1,1)[4]             : AIC=11669.338, Time=0.85 sec\n",
      " ARIMA(2,1,2)(1,1,2)[4]             : AIC=11660.007, Time=1.55 sec\n",
      " ARIMA(2,1,2)(1,1,1)[4]             : AIC=11680.136, Time=1.05 sec\n",
      " ARIMA(1,1,2)(0,1,2)[4]             : AIC=inf, Time=1.30 sec\n",
      " ARIMA(2,1,3)(0,1,2)[4]             : AIC=11615.697, Time=1.56 sec\n",
      " ARIMA(2,1,3)(0,1,1)[4]             : AIC=11672.599, Time=1.34 sec\n",
      " ARIMA(2,1,3)(1,1,2)[4]             : AIC=inf, Time=2.63 sec\n",
      " ARIMA(2,1,3)(1,1,1)[4]             : AIC=11813.003, Time=1.98 sec\n",
      " ARIMA(1,1,3)(0,1,2)[4]             : AIC=inf, Time=2.12 sec\n",
      " ARIMA(3,1,3)(0,1,2)[4]             : AIC=inf, Time=2.05 sec\n",
      " ARIMA(2,1,3)(0,1,2)[4] intercept   : AIC=11617.343, Time=2.16 sec\n",
      "\n",
      "Best model:  ARIMA(2,1,3)(0,1,2)[4]          \n",
      "Total fit time: 54.172 seconds\n"
     ]
    },
    {
     "data": {
      "text/plain": [
       "11615.697382488404"
      ]
     },
     "execution_count": 8,
     "metadata": {},
     "output_type": "execute_result"
    }
   ],
   "source": [
    "model = auto_arima(time_series, start_p=1, start_q=1,\n",
    "                           max_p=3, max_q=3, m=4,\n",
    "                           start_P=0,\n",
    "                           d=1, D=1, trace=True,\n",
    "                           error_action='ignore',  \n",
    "                           suppress_warnings=True, \n",
    "                           stepwise=True)\n",
    "model.aic()"
   ]
  },
  {
   "cell_type": "code",
   "execution_count": null,
   "metadata": {},
   "outputs": [
    {
     "data": {
      "text/html": [
       "<div>\n",
       "<style scoped>\n",
       "    .dataframe tbody tr th:only-of-type {\n",
       "        vertical-align: middle;\n",
       "    }\n",
       "\n",
       "    .dataframe tbody tr th {\n",
       "        vertical-align: top;\n",
       "    }\n",
       "\n",
       "    .dataframe thead th {\n",
       "        text-align: right;\n",
       "    }\n",
       "</style>\n",
       "<table border=\"1\" class=\"dataframe\">\n",
       "  <thead>\n",
       "    <tr style=\"text-align: right;\">\n",
       "      <th></th>\n",
       "      <th>total_bill</th>\n",
       "      <th>tip</th>\n",
       "      <th>sex</th>\n",
       "      <th>smoker</th>\n",
       "      <th>day</th>\n",
       "      <th>time</th>\n",
       "      <th>size</th>\n",
       "    </tr>\n",
       "  </thead>\n",
       "  <tbody>\n",
       "    <tr>\n",
       "      <th>0</th>\n",
       "      <td>16.99</td>\n",
       "      <td>1.01</td>\n",
       "      <td>Female</td>\n",
       "      <td>No</td>\n",
       "      <td>Sun</td>\n",
       "      <td>Dinner</td>\n",
       "      <td>2</td>\n",
       "    </tr>\n",
       "    <tr>\n",
       "      <th>1</th>\n",
       "      <td>10.34</td>\n",
       "      <td>1.66</td>\n",
       "      <td>Male</td>\n",
       "      <td>No</td>\n",
       "      <td>Sun</td>\n",
       "      <td>Dinner</td>\n",
       "      <td>3</td>\n",
       "    </tr>\n",
       "    <tr>\n",
       "      <th>2</th>\n",
       "      <td>21.01</td>\n",
       "      <td>3.50</td>\n",
       "      <td>Male</td>\n",
       "      <td>No</td>\n",
       "      <td>Sun</td>\n",
       "      <td>Dinner</td>\n",
       "      <td>3</td>\n",
       "    </tr>\n",
       "    <tr>\n",
       "      <th>3</th>\n",
       "      <td>23.68</td>\n",
       "      <td>3.31</td>\n",
       "      <td>Male</td>\n",
       "      <td>No</td>\n",
       "      <td>Sun</td>\n",
       "      <td>Dinner</td>\n",
       "      <td>2</td>\n",
       "    </tr>\n",
       "    <tr>\n",
       "      <th>4</th>\n",
       "      <td>24.59</td>\n",
       "      <td>3.61</td>\n",
       "      <td>Female</td>\n",
       "      <td>No</td>\n",
       "      <td>Sun</td>\n",
       "      <td>Dinner</td>\n",
       "      <td>4</td>\n",
       "    </tr>\n",
       "    <tr>\n",
       "      <th>...</th>\n",
       "      <td>...</td>\n",
       "      <td>...</td>\n",
       "      <td>...</td>\n",
       "      <td>...</td>\n",
       "      <td>...</td>\n",
       "      <td>...</td>\n",
       "      <td>...</td>\n",
       "    </tr>\n",
       "    <tr>\n",
       "      <th>239</th>\n",
       "      <td>29.03</td>\n",
       "      <td>5.92</td>\n",
       "      <td>Male</td>\n",
       "      <td>No</td>\n",
       "      <td>Sat</td>\n",
       "      <td>Dinner</td>\n",
       "      <td>3</td>\n",
       "    </tr>\n",
       "    <tr>\n",
       "      <th>240</th>\n",
       "      <td>27.18</td>\n",
       "      <td>2.00</td>\n",
       "      <td>Female</td>\n",
       "      <td>Yes</td>\n",
       "      <td>Sat</td>\n",
       "      <td>Dinner</td>\n",
       "      <td>2</td>\n",
       "    </tr>\n",
       "    <tr>\n",
       "      <th>241</th>\n",
       "      <td>22.67</td>\n",
       "      <td>2.00</td>\n",
       "      <td>Male</td>\n",
       "      <td>Yes</td>\n",
       "      <td>Sat</td>\n",
       "      <td>Dinner</td>\n",
       "      <td>2</td>\n",
       "    </tr>\n",
       "    <tr>\n",
       "      <th>242</th>\n",
       "      <td>17.82</td>\n",
       "      <td>1.75</td>\n",
       "      <td>Male</td>\n",
       "      <td>No</td>\n",
       "      <td>Sat</td>\n",
       "      <td>Dinner</td>\n",
       "      <td>2</td>\n",
       "    </tr>\n",
       "    <tr>\n",
       "      <th>243</th>\n",
       "      <td>18.78</td>\n",
       "      <td>3.00</td>\n",
       "      <td>Female</td>\n",
       "      <td>No</td>\n",
       "      <td>Thur</td>\n",
       "      <td>Dinner</td>\n",
       "      <td>2</td>\n",
       "    </tr>\n",
       "  </tbody>\n",
       "</table>\n",
       "<p>244 rows × 7 columns</p>\n",
       "</div>"
      ],
      "text/plain": [
       "     total_bill   tip     sex smoker   day    time  size\n",
       "0         16.99  1.01  Female     No   Sun  Dinner     2\n",
       "1         10.34  1.66    Male     No   Sun  Dinner     3\n",
       "2         21.01  3.50    Male     No   Sun  Dinner     3\n",
       "3         23.68  3.31    Male     No   Sun  Dinner     2\n",
       "4         24.59  3.61  Female     No   Sun  Dinner     4\n",
       "..          ...   ...     ...    ...   ...     ...   ...\n",
       "239       29.03  5.92    Male     No   Sat  Dinner     3\n",
       "240       27.18  2.00  Female    Yes   Sat  Dinner     2\n",
       "241       22.67  2.00    Male    Yes   Sat  Dinner     2\n",
       "242       17.82  1.75    Male     No   Sat  Dinner     2\n",
       "243       18.78  3.00  Female     No  Thur  Dinner     2\n",
       "\n",
       "[244 rows x 7 columns]"
      ]
     },
     "execution_count": 23,
     "metadata": {},
     "output_type": "execute_result"
    }
   ],
   "source": [
    "import plotly.express as px\n",
    "df = px.data.tips()\n",
    "df"
   ]
  },
  {
   "cell_type": "code",
   "execution_count": 9,
   "metadata": {},
   "outputs": [],
   "source": [
    "prediction = pd.DataFrame(model.predict(n_periods=280))"
   ]
  },
  {
   "cell_type": "code",
   "execution_count": null,
   "metadata": {},
   "outputs": [
    {
     "data": {
      "text/html": [
       "<div>\n",
       "<style scoped>\n",
       "    .dataframe tbody tr th:only-of-type {\n",
       "        vertical-align: middle;\n",
       "    }\n",
       "\n",
       "    .dataframe tbody tr th {\n",
       "        vertical-align: top;\n",
       "    }\n",
       "\n",
       "    .dataframe thead th {\n",
       "        text-align: right;\n",
       "    }\n",
       "</style>\n",
       "<table border=\"1\" class=\"dataframe\">\n",
       "  <thead>\n",
       "    <tr style=\"text-align: right;\">\n",
       "      <th></th>\n",
       "      <th>0</th>\n",
       "    </tr>\n",
       "  </thead>\n",
       "  <tbody>\n",
       "    <tr>\n",
       "      <th>2022-06-12</th>\n",
       "      <td>668165.987091</td>\n",
       "    </tr>\n",
       "    <tr>\n",
       "      <th>2022-06-13</th>\n",
       "      <td>668229.831515</td>\n",
       "    </tr>\n",
       "    <tr>\n",
       "      <th>2022-06-14</th>\n",
       "      <td>668431.884976</td>\n",
       "    </tr>\n",
       "    <tr>\n",
       "      <th>2022-06-15</th>\n",
       "      <td>668649.385392</td>\n",
       "    </tr>\n",
       "    <tr>\n",
       "      <th>2022-06-16</th>\n",
       "      <td>668840.810299</td>\n",
       "    </tr>\n",
       "    <tr>\n",
       "      <th>...</th>\n",
       "      <td>...</td>\n",
       "    </tr>\n",
       "    <tr>\n",
       "      <th>2023-03-14</th>\n",
       "      <td>703792.721586</td>\n",
       "    </tr>\n",
       "    <tr>\n",
       "      <th>2023-03-15</th>\n",
       "      <td>703959.116579</td>\n",
       "    </tr>\n",
       "    <tr>\n",
       "      <th>2023-03-16</th>\n",
       "      <td>704058.373006</td>\n",
       "    </tr>\n",
       "    <tr>\n",
       "      <th>2023-03-17</th>\n",
       "      <td>704178.439344</td>\n",
       "    </tr>\n",
       "    <tr>\n",
       "      <th>2023-03-18</th>\n",
       "      <td>704308.542132</td>\n",
       "    </tr>\n",
       "  </tbody>\n",
       "</table>\n",
       "<p>280 rows × 1 columns</p>\n",
       "</div>"
      ],
      "text/plain": [
       "                        0\n",
       "2022-06-12  668165.987091\n",
       "2022-06-13  668229.831515\n",
       "2022-06-14  668431.884976\n",
       "2022-06-15  668649.385392\n",
       "2022-06-16  668840.810299\n",
       "...                   ...\n",
       "2023-03-14  703792.721586\n",
       "2023-03-15  703959.116579\n",
       "2023-03-16  704058.373006\n",
       "2023-03-17  704178.439344\n",
       "2023-03-18  704308.542132\n",
       "\n",
       "[280 rows x 1 columns]"
      ]
     },
     "execution_count": 22,
     "metadata": {},
     "output_type": "execute_result"
    }
   ],
   "source": [
    "prediction"
   ]
  },
  {
   "cell_type": "code",
   "execution_count": 10,
   "metadata": {},
   "outputs": [],
   "source": [
    "num_linhas_selecionadas = int(0.75 * len(data_BR))\n",
    "\n",
    "# Selecione o 1/4 restante do DataFrame\n",
    "restante_df = data_BR.iloc[num_linhas_selecionadas:, :]\n",
    "restante_df.set_index('date', inplace=True)\n",
    "time_series_result = restante_df['deaths']"
   ]
  },
  {
   "cell_type": "code",
   "execution_count": null,
   "metadata": {},
   "outputs": [
    {
     "data": {
      "text/plain": [
       "<bound method NDFrame.head of date\n",
       "2022-06-12    668110\n",
       "2022-06-13    668180\n",
       "2022-06-14    668354\n",
       "2022-06-15    668693\n",
       "2022-06-16    668844\n",
       "               ...  \n",
       "2023-03-14    699310\n",
       "2023-03-15    699310\n",
       "2023-03-16    699310\n",
       "2023-03-17    699310\n",
       "2023-03-18    699310\n",
       "Name: deaths, Length: 280, dtype: int64>"
      ]
     },
     "execution_count": 27,
     "metadata": {},
     "output_type": "execute_result"
    }
   ],
   "source": [
    "time_series_result.head\n"
   ]
  },
  {
   "cell_type": "code",
   "execution_count": 16,
   "metadata": {},
   "outputs": [
    {
     "name": "stdout",
     "output_type": "stream",
     "text": [
      "RMSE: 2028.822936177613\n",
      "R2: 0.9333971154210858\n"
     ]
    }
   ],
   "source": [
    "from sklearn.metrics import mean_squared_error\n",
    "from sklearn.metrics import r2_score\n",
    "\n",
    "\n",
    "rmse = np.sqrt(mean_squared_error(time_series_result, prediction))\n",
    "r2 = r2_score(time_series_result, prediction)\n",
    "print(\"RMSE:\",rmse)\n",
    "print(\"R2:\",r2)"
   ]
  },
  {
   "cell_type": "code",
   "execution_count": 105,
   "metadata": {},
   "outputs": [
    {
     "data": {
      "text/plain": [
       "[<matplotlib.lines.Line2D at 0x20b286097e0>]"
      ]
     },
     "execution_count": 105,
     "metadata": {},
     "output_type": "execute_result"
    },
    {
     "data": {
      "image/png": "[encoded data removed]",
      "text/plain": [
       "<Figure size 640x480 with 1 Axes>"
      ]
     },
     "metadata": {},
     "output_type": "display_data"
    }
   ],
   "source": [
    "plt.plot(prediction)"
   ]
  },
  {
   "cell_type": "code",
   "execution_count": 106,
   "metadata": {},
   "outputs": [
    {
     "data": {
      "text/plain": [
       "[<matplotlib.lines.Line2D at 0x20b2854f160>]"
      ]
     },
     "execution_count": 106,
     "metadata": {},
     "output_type": "execute_result"
    },
    {
     "data": {
      "image/png": "[encoded data removed]",
      "text/plain": [
       "<Figure size 640x480 with 1 Axes>"
      ]
     },
     "metadata": {},
     "output_type": "display_data"
    }
   ],
   "source": [
    "plt.plot(time_series_result)"
   ]
  },
  {
   "cell_type": "code",
   "execution_count": 7,
   "metadata": {},
   "outputs": [
    {
     "name": "stdout",
     "output_type": "stream",
     "text": [
      "    count  epi_week    type\n",
      "0      70        46  deaths\n",
      "1      74        42  deaths\n",
      "2      55         5  deaths\n",
      "3      78        30  deaths\n",
      "4      22        28  deaths\n",
      "..    ...       ...     ...\n",
      "95    259        52   cases\n",
      "96    333         7   cases\n",
      "97    670         3   cases\n",
      "98    522        29   cases\n",
      "99    628        29   cases\n",
      "\n",
      "[200 rows x 3 columns]\n"
     ]
    }
   ],
   "source": [
    "import pandas as pd\n",
    "import numpy as np\n",
    "\n",
    "# Create the dataframe\n",
    "df = pd.DataFrame({\n",
    "    'epi_week': np.random.randint(1, 53, 100),\n",
    "    'deaths': np.random.randint(1, 100, 100),\n",
    "    'cases': np.random.randint(1, 1000, 100)\n",
    "})\n",
    "\n",
    "# Create separate dataframes for 'deaths' and 'cases'\n",
    "df_deaths = df[['deaths', 'epi_week']].rename(columns={'deaths': 'count'})\n",
    "df_cases = df[['cases', 'epi_week']].rename(columns={'cases': 'count'})\n",
    "\n",
    "# Add a 'type' column to each dataframe\n",
    "df_deaths['type'] = 'deaths'\n",
    "df_cases['type'] = 'cases'\n",
    "\n",
    "# Concatenate the two dataframes\n",
    "df_final = pd.concat([df_deaths, df_cases])\n",
    "\n",
    "# Print the final dataframe\n",
    "print(df_final)"
   ]
  }
 ],
 "metadata": {
  "kernelspec": {
   "display_name": "base",
   "language": "python",
   "name": "python3"
  },
  "language_info": {
   "codemirror_mode": {
    "name": "ipython",
    "version": 3
   },
   "file_extension": ".py",
   "mimetype": "text/x-python",
   "name": "python",
   "nbconvert_exporter": "python",
   "pygments_lexer": "ipython3",
   "version": "3.10.9"
  }
 },
 "nbformat": 4,
 "nbformat_minor": 2
}
